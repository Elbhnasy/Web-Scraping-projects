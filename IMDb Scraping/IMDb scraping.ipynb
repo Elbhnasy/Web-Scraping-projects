{
 "cells": [
  {
   "cell_type": "markdown",
   "id": "3df0a7b5",
   "metadata": {},
   "source": [
    "## Connect to Website and pull in data"
   ]
  },
  {
   "cell_type": "code",
   "execution_count": 3,
   "id": "49101857",
   "metadata": {},
   "outputs": [
    {
     "name": "stdout",
     "output_type": "stream",
     "text": [
      "Movie data saved to top_movies.csv\n"
     ]
    }
   ],
   "source": [
    "## import libraries\n",
    "import csv\n",
    "import requests\n",
    "from bs4 import BeautifulSoup\n",
    "\n",
    "try:\n",
    "    # Send a GET request to the website and get the HTML content\n",
    "    source = requests.get(\"https://www.imdb.com/chart/top/\")\n",
    "    source.raise_for_status()\n",
    "    \n",
    "    # Parse the HTML content using BeautifulSoup\n",
    "    soup = BeautifulSoup(source.text, \"html.parser\")\n",
    "    \n",
    "    # Find all the movies in the HTML content\n",
    "    movies = soup.find(\"tbody\", class_=\"lister-list\").find_all(\"tr\")\n",
    "    \n",
    "    # Open the CSV file in write mode with UTF-8 encoding\n",
    "    with open(\"top_movies.csv\", mode=\"w\", newline=\"\", encoding=\"utf-8\") as file:\n",
    "        # Create a CSV writer object\n",
    "        writer = csv.writer(file)\n",
    "        # Write the header row\n",
    "        writer.writerow([\"Rank\", \"Name\", \"Year\", \"Rating\"])\n",
    "        \n",
    "        # Loop through each movie and write its data to the CSV file\n",
    "        for movie in movies:\n",
    "            # get move name\n",
    "            name = movie.find(\"td\", class_=\"titleColumn\").a.text\n",
    "            \n",
    "            # get move rank\n",
    "            rank = movie.find(\"td\", class_=\"titleColumn\").get_text(strip=True).split(\".\")[0]\n",
    "            \n",
    "            #get move year\n",
    "            year = movie.find(\"td\", class_=\"titleColumn\").span.text.strip(\"()\")\n",
    "            \n",
    "            #get move rate\n",
    "            rate = movie.find(\"td\", class_=\"ratingColumn imdbRating\").strong.text\n",
    "            \n",
    "            writer.writerow([rank, name, year, rate])\n",
    "    \n",
    "    print(\"Movie data saved to top_movies.csv\")\n",
    "    \n",
    "except requests.exceptions.HTTPError as e:\n",
    "    print(f\"HTTP Error Occurred: {e}\") # Check URL\n",
    "    \n",
    "except Exception as e:\n",
    "    print(f\"Error Occurred: {e}\")\n",
    "\n"
   ]
  },
  {
   "cell_type": "code",
   "execution_count": null,
   "id": "e6508841",
   "metadata": {},
   "outputs": [],
   "source": []
  }
 ],
 "metadata": {
  "kernelspec": {
   "display_name": "Python 3 (ipykernel)",
   "language": "python",
   "name": "python3"
  },
  "language_info": {
   "codemirror_mode": {
    "name": "ipython",
    "version": 3
   },
   "file_extension": ".py",
   "mimetype": "text/x-python",
   "name": "python",
   "nbconvert_exporter": "python",
   "pygments_lexer": "ipython3",
   "version": "3.9.13"
  }
 },
 "nbformat": 4,
 "nbformat_minor": 5
}
